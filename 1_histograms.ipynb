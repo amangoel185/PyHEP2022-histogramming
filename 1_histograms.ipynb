{
 "cells": [
  {
   "cell_type": "markdown",
   "id": "8d070728-ef96-40ae-9d4b-297b5b70d96c",
   "metadata": {
    "tags": []
   },
   "source": [
    "# Histograms as Objects: Tools for Efficient Analysis and Interactivity"
   ]
  },
  {
   "cell_type": "markdown",
   "id": "0c4ffb79-8c7a-42ea-8d0b-446fa58b6a51",
   "metadata": {
    "tags": []
   },
   "source": [
    "### Aman Goel (speaker), Dr. Hans Peter Dembinski, Henry Fredrick Schreiner, Jay Gohil (speaker)"
   ]
  },
  {
   "cell_type": "markdown",
   "id": "6b4f6ef8-d520-47ee-b60c-156e04b49f78",
   "metadata": {},
   "source": [
    "**12th September, 2022**"
   ]
  },
  {
   "cell_type": "markdown",
   "id": "f42219bb-9792-42fc-aaba-472ff710e433",
   "metadata": {},
   "source": [
    "[![Binder](https://mybinder.org/badge_logo.svg)](https://mybinder.org/v2/gh/amangoel185/pyhep-2022-histogramming-talk/HEAD)\n",
    "[![DOI](https://zenodo.org/badge/534640103.svg)](https://zenodo.org/badge/latestdoi/534640103)"
   ]
  },
  {
   "cell_type": "markdown",
   "id": "91d95727-81d1-411b-86c7-afb00ffb1207",
   "metadata": {},
   "source": [
    "- **Quick Links**\n",
    "    - Talk - [Indico](https://indico.cern.ch/event/1150631/contributions/5014273/), [Repository](https://github.com/amangoel185/pyhep-2022-histogramming-talk), [Zenodo](https://zenodo.org/badge/latestdoi/534640103), [Binder](https://mybinder.org/v2/gh/amangoel185/pyhep-2022-histogramming-talk/HEAD)\n",
    "    - boost-histogram - [Documetation](https://boost-histogram.readthedocs.io), [Repository](https://github.com/scikit-hep/boost-histogram)\n",
    "    - hist - [Documentation](https://hist.readthedocs.io), [Repository](https://github.com/scikit-hep/hist)\n",
    "    - uproot-browser - [Repository](https://github.com/scikit-hep/uproot-browser)"
   ]
  },
  {
   "cell_type": "markdown",
   "id": "bff83d5a-d2f6-4b82-960f-56a01490dd71",
   "metadata": {},
   "source": [
    "- **Ideas and structure**\n",
    "    - fundamentals, composition, axes, histograms\n",
    "    - work with hist, point to boost-histogram here and there\n",
    "    - 2D histogram example with PyHEP logo\n",
    "    - save histogram with uproot\n",
    "    - use the same one in uproot-browser\n",
    "    - try.jupyter.org for pyodide"
   ]
  },
  {
   "cell_type": "markdown",
   "id": "2ef311a6-b049-46bf-a1d2-7d816e28a3aa",
   "metadata": {
    "tags": []
   },
   "source": [
    "## What is a Histogram?\n",
    "\n",
    "According to the standard definition, *histograms are grouped frequency distribution based representation of occurence for numerical data points*.\n",
    "\n",
    "<center><img src=\"assets/histogram.png\" alt=\"Histogram Image\"></center>\n",
    "\n",
    "Typically, a histogram consists of axes where:\n",
    "- Horizontal *x-axis* usually represents classes or columns under which data is grouped, and\n",
    "- Vertical *y-axis* that represents the frequency of said classes"
   ]
  },
  {
   "cell_type": "markdown",
   "id": "6f3ba381-ac08-4edb-a6c0-9872af6eff15",
   "metadata": {},
   "source": [
    "Let's prepare a default random number generator (NumPy 1.17+)"
   ]
  },
  {
   "cell_type": "code",
   "execution_count": null,
   "id": "9f8e688f-22b8-46ac-b501-b02ed55dc469",
   "metadata": {},
   "outputs": [],
   "source": [
    "import hist\n",
    "from hist import Hist, axis\n",
    "from PIL import Image\n",
    "import numpy as np\n",
    "import matplotlib.pyplot as plt"
   ]
  },
  {
   "cell_type": "code",
   "execution_count": null,
   "id": "11832ac0-f575-499a-9d58-c8ebe3fc5b5f",
   "metadata": {},
   "outputs": [],
   "source": [
    "rng = np.random.default_rng()"
   ]
  },
  {
   "cell_type": "code",
   "execution_count": null,
   "id": "d12b153b-e99c-45a3-9013-ef859e16886f",
   "metadata": {},
   "outputs": [],
   "source": [
    "data = np.hstack(\n",
    "    [\n",
    "        rng.normal(0, 2, size=40_000),\n",
    "        rng.normal(3, 0.3, size=5_000),\n",
    "        rng.normal(-3, 0.3, size=5_000),\n",
    "    ]\n",
    ")"
   ]
  },
  {
   "cell_type": "code",
   "execution_count": null,
   "id": "60d508ef-9a39-4d3a-9e24-2fdd50a0d2b2",
   "metadata": {},
   "outputs": [],
   "source": [
    "h = Hist.new.Reg(100, -10, 10).Int64().fill(data)\n",
    "h"
   ]
  },
  {
   "cell_type": "code",
   "execution_count": null,
   "id": "6299c585-1465-4621-bf83-b335cf584cbf",
   "metadata": {},
   "outputs": [],
   "source": [
    "h.plot();"
   ]
  },
  {
   "cell_type": "code",
   "execution_count": null,
   "id": "e90c07ef-86ff-47a6-bf6f-f3e70ee1da21",
   "metadata": {},
   "outputs": [],
   "source": [
    "h[-4j:4j].plot();"
   ]
  },
  {
   "cell_type": "code",
   "execution_count": null,
   "id": "26d77aac-b847-4e99-a8ab-0ebb2803d446",
   "metadata": {},
   "outputs": [],
   "source": [
    "# NumPy API\n",
    "# hist.numpy.histogram(data, bins=100, histogram=Hist)"
   ]
  },
  {
   "cell_type": "markdown",
   "id": "6c518b40",
   "metadata": {
    "tags": []
   },
   "source": [
    "## Histogramming with Scikit-HEP\n",
    "\n",
    "<div>\n",
    "    <span style=\"font-size:150%\"><b>&nbsp;&nbsp;&nbsp;&nbsp;&nbsp;&nbsp;&nbsp;&nbsp;&nbsp;&nbsp;</b></span>\n",
    "    <img style=\"vertical-align:middle\" src=\"assets/BoostHistogramPythonLogo.webp\" alt=\"2D Histogram\" width=\"270\">\n",
    "    <span style=\"font-size:150%\"><b>&nbsp;&nbsp;&nbsp;&nbsp;&nbsp;&nbsp;&nbsp;&nbsp;&nbsp;&nbsp;</b></span>\n",
    "    <img style=\"vertical-align:middle\" src=\"assets/histlogo.webp\" alt=\"1D Histogram\" width=\"270\">\n",
    "</div>\n",
    "\n",
    "- **Boost-histogram**\n",
    "    * The python bindings for Boost::Histogram, a C++14 library, which is one of the fastest libraries for histogramming, while still providing the power of a full histogram object.\n",
    "\n",
    "- **Hist**\n",
    "    * The first-party analyst-friendly histogram library that extends boost-histogram with named axes, many new shortcuts including UHI+, plotting shortcuts, and more.\n",
    "\n",
    "Other histogram members libraries include [UHI](https://github.com/scikit-hep/hist), [mplhep](https://mplhep.readthedocs.io/en/latest/), [histoprint](https://mplhep.readthedocs.io/en/latest/), and [dask-histogram](https://dask-histogram.readthedocs.io/en/stable/)."
   ]
  },
  {
   "cell_type": "markdown",
   "id": "2dda40c0-e11f-48e4-aa12-6714ab2db245",
   "metadata": {},
   "source": [
    "### A Hist object is made up of:\n",
    "\n",
    "<div>\n",
    "    <span style=\"font-size:150%\"><b>2D:&nbsp;&nbsp;</b></span>\n",
    "    <img style=\"vertical-align:middle\" src=\"assets/2D_histogram.png\" alt=\"2D Histogram\" width=\"360\">\n",
    "    <span style=\"font-size:150%\"><b>1D:&nbsp;&nbsp;</b></span>\n",
    "    <img style=\"vertical-align:middle\" src=\"assets/1D_histogram.png\" alt=\"1D Histogram\" width=\"360\">\n",
    "</div>\n",
    "\n",
    "- **Axis objects**\n",
    "    * An axis object defines how storage of data is supposed to look like. Hist has several axes that include:\n",
    "        *Regular*, *Variable*, *Integer*, *Category*\n",
    "- **Storage**\n",
    "    * The storage defines the type of data stored within the histogram, and include:\n",
    "        * Simple storages: *Double*,*Unlimited*, *Int64*, *AtomicInt64* \n",
    "        * Accumulator storages: *Weight*, *Mean*, *WeightedMean*"
   ]
  },
  {
   "cell_type": "markdown",
   "id": "1b559584-bccd-4fd0-9cf4-540543fe27af",
   "metadata": {},
   "source": [
    "<center><img src=\"assets/axes.png\" alt=\"Axes Image\" width=\"720\"></center>"
   ]
  },
  {
   "cell_type": "markdown",
   "id": "8518e294-2cda-45f3-b421-42ba0ecfe33c",
   "metadata": {},
   "source": [
    "### Defining a histogram with Hist"
   ]
  },
  {
   "cell_type": "markdown",
   "id": "d681d6d9-7473-4d36-9a07-87048653621b",
   "metadata": {},
   "source": [
    "Let's use Hist to define a histogram as an object!"
   ]
  },
  {
   "cell_type": "markdown",
   "id": "e899daa1-177b-43ca-ae71-3147e9f4c3c8",
   "metadata": {},
   "source": [
    "#### Classic definition"
   ]
  },
  {
   "cell_type": "code",
   "execution_count": null,
   "id": "fee5cde3-ae20-4e14-a2c4-eedd80b1d55c",
   "metadata": {},
   "outputs": [],
   "source": [
    "h = Hist(\n",
    "    hist.axis.Regular(50, -5, 5, name=\"S\", label=\"s [units]\", flow=False),\n",
    "    hist.axis.Regular(50, -5, 5, name=\"W\", label=\"w [units]\", flow=False),\n",
    "    storage=hist.storage.Weight(),\n",
    ")\n",
    "print(h)"
   ]
  },
  {
   "cell_type": "markdown",
   "id": "76c76889-2ebc-48db-ba4e-bea6acc9a87c",
   "metadata": {},
   "source": [
    "#### QuickConstruct"
   ]
  },
  {
   "cell_type": "code",
   "execution_count": null,
   "id": "a413574d-a5b0-4655-8068-98b2c745116b",
   "metadata": {},
   "outputs": [],
   "source": [
    "h = (\n",
    "    Hist.new.Reg(50, -5, 5, name=\"s\", label=\"s [units]\", flow=False)\n",
    "    .Reg(50, -5, 5, name=\"w\", label=\"w [units]\", flow=False)\n",
    "    .Weight()\n",
    ")\n",
    "print(h)"
   ]
  },
  {
   "cell_type": "markdown",
   "id": "4c843687",
   "metadata": {},
   "source": [
    "#### QuickContruct with boost_histogram"
   ]
  },
  {
   "cell_type": "code",
   "execution_count": null,
   "id": "207dbebe",
   "metadata": {},
   "outputs": [],
   "source": [
    "import boost_histogram as bh\n",
    "\n",
    "b_hist = bh.Histogram(\n",
    "    bh.axis.Regular(10, 0, 100, circular=True),\n",
    "    bh.axis.Regular(10, 0.0, 10.0),\n",
    "    bh.axis.Variable([1, 2, 3, 4, 5, 5.5, 6]),\n",
    ")\n",
    "\n",
    "print(b_hist)"
   ]
  },
  {
   "cell_type": "markdown",
   "id": "94fd8617-bae3-474c-8ccc-eb83551c5a9c",
   "metadata": {},
   "source": [
    "Hist's Uniform Histogram Indexing+ (UHI+) extends boost-histogram's UHI and provides HEP users with handy accessing shortcuts. For example, to access the centroid element of a 2D-histogram, we can:"
   ]
  },
  {
   "cell_type": "markdown",
   "id": "1d77c734-40c1-4992-9e90-dfb4c212ce6f",
   "metadata": {},
   "source": [
    "### Filling"
   ]
  },
  {
   "cell_type": "code",
   "execution_count": null,
   "id": "ea6524ef-1008-4e46-b3c6-90363c45fb17",
   "metadata": {},
   "outputs": [],
   "source": [
    "s_data = rng.standard_normal(50_000)\n",
    "w_data = rng.standard_normal(50_000)\n",
    "\n",
    "h.fill(s=s_data, w=w_data, threads=4);"
   ]
  },
  {
   "cell_type": "code",
   "execution_count": null,
   "id": "46b403d9-f4e9-4f27-a562-3042da82c949",
   "metadata": {},
   "outputs": [],
   "source": [
    "h.plot2d_full();"
   ]
  },
  {
   "cell_type": "markdown",
   "id": "a63b3b93-0669-4fd0-8119-183ed734bb37",
   "metadata": {
    "tags": []
   },
   "source": [
    "### Hist Repr"
   ]
  },
  {
   "cell_type": "markdown",
   "id": "99446853-7b68-4859-b897-bea9b2e60567",
   "metadata": {},
   "source": [
    "Hist has customized reprs when displaying in a Jupyter and supports dark mode."
   ]
  },
  {
   "cell_type": "code",
   "execution_count": null,
   "id": "99adff73-aa76-4f1d-9517-7bca176fc149",
   "metadata": {},
   "outputs": [],
   "source": [
    "h.project(\"s\")"
   ]
  },
  {
   "cell_type": "code",
   "execution_count": null,
   "id": "06e783d5-42ac-4783-b64c-20b70e8f505c",
   "metadata": {},
   "outputs": [],
   "source": [
    "h"
   ]
  },
  {
   "cell_type": "markdown",
   "id": "7f76eed3-83f5-4101-9ce4-9d3c3df16cfe",
   "metadata": {},
   "source": [
    "Besides the fancy repr, the users can explictly see the data by `.plot()` (using mplhep in the backend) and `.show()` (using histoprint)."
   ]
  },
  {
   "cell_type": "markdown",
   "id": "0324d8d5-c5c5-441b-ac4a-364a02e77dd0",
   "metadata": {},
   "source": [
    "### Manipulating the PyHEP logo as an Hist object"
   ]
  },
  {
   "cell_type": "code",
   "execution_count": null,
   "id": "cf645431-bd60-4295-a16b-aa7efb78335b",
   "metadata": {},
   "outputs": [],
   "source": [
    "pyhep = Image.open(\"assets/PyHEP.png\")\n",
    "pyhep"
   ]
  },
  {
   "cell_type": "code",
   "execution_count": null,
   "id": "14f33b83-4139-4853-9c2f-e42aa0049c83",
   "metadata": {},
   "outputs": [],
   "source": [
    "arr = np.asarray(pyhep)[:, :, 2]"
   ]
  },
  {
   "cell_type": "code",
   "execution_count": null,
   "id": "7a6036c1-b424-42db-b90a-5696db8a20fe",
   "metadata": {},
   "outputs": [],
   "source": [
    "rng = np.random.default_rng()\n",
    "x, y, p = rng.random((3, 200_000))"
   ]
  },
  {
   "cell_type": "code",
   "execution_count": null,
   "id": "abda6e6f-7d48-40e6-8d13-6b44cdcf043a",
   "metadata": {},
   "outputs": [],
   "source": [
    "bx = (x * 200).astype(np.int32)\n",
    "by = (y * 200).astype(np.int32)"
   ]
  },
  {
   "cell_type": "code",
   "execution_count": null,
   "id": "38cff531-d1dc-4f58-a549-178f58ef9b9d",
   "metadata": {},
   "outputs": [],
   "source": [
    "prob = arr[by, bx] / 255"
   ]
  },
  {
   "cell_type": "code",
   "execution_count": null,
   "id": "324dc3af-0f1e-4ad8-997a-8ef02b3b700d",
   "metadata": {},
   "outputs": [],
   "source": [
    "hits = prob > p"
   ]
  },
  {
   "cell_type": "code",
   "execution_count": null,
   "id": "7a1d188d-6412-4b4d-bda5-e9ad28b4d7a6",
   "metadata": {},
   "outputs": [],
   "source": [
    "X = x[hits]\n",
    "Y = 1 - (y[hits] / 200 * 200 + (1 / 200))"
   ]
  },
  {
   "cell_type": "code",
   "execution_count": null,
   "id": "c295736a-f9b4-4092-a57f-29b915385aab",
   "metadata": {},
   "outputs": [],
   "source": [
    "pyhist = hist.Hist(hist.axis.Regular(400, 0, 1, metadata=\"x\"), hist.axis.Regular(400, 0, 1, metadata=\"y\"))\n",
    "\n",
    "pyhist.fill(X, Y)"
   ]
  },
  {
   "cell_type": "code",
   "execution_count": null,
   "id": "863dcce0-58a5-4de9-8967-0ad5241d7c57",
   "metadata": {},
   "outputs": [],
   "source": [
    "def plt_pyhist(h):\n",
    "    x, y = h.axes.edges\n",
    "    plt.pcolormesh(x.T, y.T, h.view().T)\n",
    "    plt.gca().set_aspect(\"equal\", \"box\")\n",
    "    plt.xlabel(h.axes[0].metadata)\n",
    "    plt.ylabel(h.axes[1].metadata)"
   ]
  },
  {
   "cell_type": "code",
   "execution_count": null,
   "id": "39360cfa-957f-48cd-8156-1c953168740c",
   "metadata": {},
   "outputs": [],
   "source": [
    "plt_pyhist(pyhist)"
   ]
  },
  {
   "cell_type": "code",
   "execution_count": null,
   "id": "a699821a-015d-4180-acb8-7be5f96acc25",
   "metadata": {},
   "outputs": [],
   "source": [
    "plt_pyhist(pyhist[:: hist.rebin(2), :: hist.rebin(3)])"
   ]
  },
  {
   "cell_type": "code",
   "execution_count": null,
   "id": "770a2b6c-f0ef-4e0e-820a-50a5e238cfbe",
   "metadata": {},
   "outputs": [],
   "source": [
    "plt_pyhist(pyhist[hist.loc(0.42):hist.loc(0.83), hist.loc(0.16):hist.loc(0.59)])"
   ]
  },
  {
   "cell_type": "markdown",
   "id": "e7c0b80a-1283-483b-81f8-a8fc4f2e26d9",
   "metadata": {},
   "source": [
    "### Other interesting features"
   ]
  },
  {
   "cell_type": "markdown",
   "id": "f58ab36b-7ba4-4f42-b36c-0562257a1e68",
   "metadata": {},
   "source": [
    "#### Stacks"
   ]
  },
  {
   "cell_type": "markdown",
   "id": "08f1150f-3bdd-4ba1-a888-578fa53b4e38",
   "metadata": {},
   "source": [
    "`hist` supports Stacked Histograms! A histogram stack holds multiple 1-D histograms into a stack, whose axes are required to match.\n",
    "\n",
    "Manipulation and multiple math operations can also be performed on stacks. You can find more about them in the [Hist - Stack documentation](https://hist.readthedocs.io/en/latest/user-guide/notebooks/Stack.html)."
   ]
  },
  {
   "cell_type": "code",
   "execution_count": null,
   "id": "2cf9abe8-2757-469a-b201-de9293d65ad8",
   "metadata": {},
   "outputs": [],
   "source": [
    "ax = hist.axis.Regular(25, -5, 5, flow=False, name=\"x\")\n",
    "cax = hist.axis.StrCategory([\"signal\", \"upper\", \"lower\"], name=\"c\")\n",
    "full_hist = Hist(ax, cax)\n",
    "\n",
    "full_hist.fill(x=rng.standard_normal(size=600), c=\"signal\")\n",
    "full_hist.fill(x=2 * rng.standard_normal(size=500) + 2, c=\"upper\")\n",
    "full_hist.fill(x=2 * rng.standard_normal(size=500) - 2, c=\"lower\")\n",
    "\n",
    "s = full_hist.stack(\"c\")"
   ]
  },
  {
   "cell_type": "code",
   "execution_count": null,
   "id": "68b7a85b-000c-462c-99ea-d3cba3605e88",
   "metadata": {},
   "outputs": [],
   "source": [
    "s.plot()\n",
    "plt.legend();"
   ]
  },
  {
   "cell_type": "code",
   "execution_count": null,
   "id": "abb70822-028d-4eb7-b62f-9ad480987bf8",
   "metadata": {},
   "outputs": [],
   "source": [
    "s[::-1].plot(stack=True, histtype=\"fill\")\n",
    "plt.legend();"
   ]
  },
  {
   "cell_type": "markdown",
   "id": "be99f62a-2013-4024-a23e-801eab7f3b7a",
   "metadata": {},
   "source": [
    "#### Interpolation"
   ]
  },
  {
   "cell_type": "markdown",
   "id": "746544a0-be67-4300-90c6-f67f6d09eabd",
   "metadata": {},
   "source": [
    "`hist` supports interpolation in Hist via SciPy. You can find more about them in the [Hist - Interpolation documentation](https://hist.readthedocs.io/en/latest/user-guide/notebooks/Interpolation.html)."
   ]
  },
  {
   "cell_type": "code",
   "execution_count": null,
   "id": "0b1c1278-e2cb-4235-91f1-4f2e867a4de6",
   "metadata": {},
   "outputs": [],
   "source": [
    "from scipy import interpolate"
   ]
  },
  {
   "cell_type": "code",
   "execution_count": null,
   "id": "329bffec-8c76-4c40-bfc2-123d4a6c0ad3",
   "metadata": {},
   "outputs": [],
   "source": [
    "# We obtain evenly spaced numbers over the specified interval.\n",
    "x = np.linspace(-27, 27, num=250, endpoint=True)\n",
    "\n",
    "# Define a Hist object and fill it.\n",
    "interp_h = Hist.new.Reg(10, -30, 30).Double()\n",
    "centers = interp_h.axes[0].centers\n",
    "weights = np.cos(-(centers**2) / 9.0) ** 2\n",
    "interp_h.fill(centers, weight=weights)"
   ]
  },
  {
   "cell_type": "code",
   "execution_count": null,
   "id": "6444deda-01e7-418a-b0ba-82596e5e14de",
   "metadata": {},
   "outputs": [],
   "source": [
    "linear_interp = interpolate.interp1d(interp_h.axes[0].centers, interp_h.values(), kind=\"linear\")"
   ]
  },
  {
   "cell_type": "code",
   "execution_count": null,
   "id": "93364e83-5d92-4a3a-87b4-75d2921cbfa4",
   "metadata": {},
   "outputs": [],
   "source": [
    "interp_h.plot()  # Plot the histogram\n",
    "plt.plot(interp_h.axes[0].centers, interp_h.values(), \"o\")\n",
    "plt.plot(x, linear_interp(x), \"-.\");"
   ]
  }
 ],
 "metadata": {
  "kernelspec": {
   "display_name": "hist",
   "language": "python",
   "name": "hist"
  },
  "language_info": {
   "codemirror_mode": {
    "name": "ipython",
    "version": 3
   },
   "file_extension": ".py",
   "mimetype": "text/x-python",
   "name": "python",
   "nbconvert_exporter": "python",
   "pygments_lexer": "ipython3",
   "version": "3.10.5"
  }
 },
 "nbformat": 4,
 "nbformat_minor": 5
}
