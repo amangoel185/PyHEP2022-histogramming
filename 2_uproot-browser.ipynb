{
 "cells": [
  {
   "cell_type": "markdown",
   "id": "13569330-ff1c-47f7-af65-1287e3c6b07c",
   "metadata": {},
   "source": [
    "## uproot-browser"
   ]
  },
  {
   "cell_type": "markdown",
   "id": "5663e492-c35a-48ff-b2e8-b4ecb9cb4f3e",
   "metadata": {},
   "source": [
    "[![Binder](https://mybinder.org/badge_logo.svg)](https://mybinder.org/v2/gh/amangoel185/pyhep-2022-histogramming-talk/HEAD)\n",
    "[![DOI](https://zenodo.org/badge/534640103.svg)](https://zenodo.org/badge/latestdoi/534640103)"
   ]
  },
  {
   "cell_type": "markdown",
   "id": "d431e794-db09-4bb1-be53-7883bc16b17a",
   "metadata": {},
   "source": [
    "<br><br>"
   ]
  },
  {
   "cell_type": "markdown",
   "id": "18d8f915-428d-4a2f-94ef-159bb5f83030",
   "metadata": {},
   "source": [
    "- **Quick Links**\n",
    "    - Talk - [Indico](https://indico.cern.ch/event/1150631/contributions/5014273/), [Repository](https://github.com/amangoel185/pyhep-2022-histogramming-talk), [Zenodo](https://zenodo.org/badge/latestdoi/534640103), [Binder](https://mybinder.org/v2/gh/amangoel185/pyhep-2022-histogramming-talk/HEAD)\n",
    "    - boost-histogram - [Documetation](https://boost-histogram.readthedocs.io), [Repository](https://github.com/scikit-hep/boost-histogram)\n",
    "    - hist - [Documentation](https://hist.readthedocs.io), [Repository](https://github.com/scikit-hep/hist)\n",
    "    - uproot-browser - [Repository](https://github.com/scikit-hep/uproot-browser)"
   ]
  },
  {
   "cell_type": "markdown",
   "id": "8f1e6019-64e3-45c9-bae8-565db04c3b9b",
   "metadata": {},
   "source": [
    "<br><br><br><br>"
   ]
  },
  {
   "cell_type": "code",
   "execution_count": null,
   "id": "33e4600c-122a-4833-bc22-95b832a8ae36",
   "metadata": {},
   "outputs": [],
   "source": [
    "import uproot\n",
    "import skhep_testdata"
   ]
  },
  {
   "cell_type": "markdown",
   "id": "ea15956e-f724-47c1-a952-73d730b7df1a",
   "metadata": {},
   "source": [
    "### Let's try exploring the contents of a ROOT file with `uproot` first!"
   ]
  },
  {
   "cell_type": "markdown",
   "id": "ccb22874-0ebd-497f-853f-99b2fa629930",
   "metadata": {},
   "source": [
    "#### Listing contents"
   ]
  },
  {
   "cell_type": "code",
   "execution_count": null,
   "id": "625e9034-7f8f-4ea5-9b5d-b5d35c5bb3de",
   "metadata": {},
   "outputs": [],
   "source": [
    "filename = skhep_testdata.data_path(\"uproot-Event.root\")"
   ]
  },
  {
   "cell_type": "code",
   "execution_count": null,
   "id": "3737363c-9e72-49e5-908a-58a07479bab8",
   "metadata": {},
   "outputs": [],
   "source": [
    "file = uproot.open(filename)"
   ]
  },
  {
   "cell_type": "code",
   "execution_count": null,
   "id": "2a7c31cf-95bd-41cd-8cf2-075270d165ed",
   "metadata": {},
   "outputs": [],
   "source": [
    "file.keys()"
   ]
  },
  {
   "cell_type": "code",
   "execution_count": null,
   "id": "b675f070-2f93-4f00-b712-249191b8c29c",
   "metadata": {},
   "outputs": [],
   "source": [
    "file.classnames()"
   ]
  },
  {
   "cell_type": "code",
   "execution_count": null,
   "id": "f60ef7f5-d776-4fff-81f0-b63a33e10a2f",
   "metadata": {},
   "outputs": [],
   "source": [
    "h = file[\"hstat\"]\n",
    "h"
   ]
  },
  {
   "cell_type": "markdown",
   "id": "596ce470-f3cd-4f0b-bb55-4417571d2fb9",
   "metadata": {},
   "source": [
    "#### Reading a histogram"
   ]
  },
  {
   "cell_type": "code",
   "execution_count": null,
   "id": "ae594466-3fc6-410f-914a-c1452194d4d9",
   "metadata": {},
   "outputs": [],
   "source": [
    "h.to_hist().plot()"
   ]
  },
  {
   "cell_type": "code",
   "execution_count": null,
   "id": "f247ce4f-0c24-4837-a16d-bb5904952854",
   "metadata": {},
   "outputs": [],
   "source": [
    "t = file[\"T\"]\n",
    "t.show()"
   ]
  },
  {
   "cell_type": "markdown",
   "id": "c048fd49-304f-4946-827e-57a5d2a40638",
   "metadata": {},
   "source": [
    "<br><br><br><br>"
   ]
  },
  {
   "cell_type": "markdown",
   "id": "e71516ff-63ed-4d4a-91d3-0fb26e85052c",
   "metadata": {},
   "source": [
    "#### What if we could perform the above operations with a help of a user interface?"
   ]
  },
  {
   "cell_type": "markdown",
   "id": "c951ae3c-3705-47d3-9d4c-51e36b82a65f",
   "metadata": {},
   "source": [
    "### uproot-browser"
   ]
  },
  {
   "cell_type": "markdown",
   "id": "35e084ec-9c45-4900-a3a7-897d716e3be3",
   "metadata": {},
   "source": [
    "`uproot-browser` is a *plotext* based command line library in which the command line interface is provided by *Click*. It is powered by *Hist* and it's TUI is put together by *Textual*. Its aim is to enable a user to browse and look inside a *ROOT* file, completely via the terminal. It takes its inspiration from the *ROOT object browser*."
   ]
  },
  {
   "cell_type": "markdown",
   "id": "c5164730-43c5-4f3a-8e63-b91c1d709d53",
   "metadata": {},
   "source": [
    "#### Features"
   ]
  },
  {
   "cell_type": "markdown",
   "id": "4721f107-97c4-431c-8590-f2862c4de4ef",
   "metadata": {},
   "source": [
    "`uproot-browser` currently provides the following features (get help with `-h` or `--help`):\n",
    "\n",
    "- `browse` can be used to display a TUI (terminal user interface).\n",
    "- `plot` can be used to display a plot.\n",
    "- `tree` can be used to display a tree.\n"
   ]
  },
  {
   "cell_type": "markdown",
   "id": "998a41ee-b8d0-4fa3-9a86-2f7c652b8d6b",
   "metadata": {},
   "source": [
    "#### Demo"
   ]
  },
  {
   "cell_type": "markdown",
   "id": "15fc5714-d005-4e9c-9c42-9e8c29572254",
   "metadata": {},
   "source": [
    "You can use the following commands in the local (if you have the local setup) or the Binder terminal if you want to follow along the demo:\n",
    "    \n",
    "```bash\n",
    "uproot-browser -h\n",
    "uproot-browser plot scikit-hep-testdata/src/skhep_testdata/data/uproot-Event.root:hstat\n",
    "uproot-browser tree scikit-hep-testdata/src/skhep_testdata/data/uproot-Event.root:T\n",
    "uproot-browser browse scikit-hep-testdata/src/skhep_testdata/data/uproot-Event.root\n",
    "```"
   ]
  }
 ],
 "metadata": {
  "kernelspec": {
   "display_name": "Python 3 (ipykernel)",
   "language": "python",
   "name": "python3"
  },
  "language_info": {
   "codemirror_mode": {
    "name": "ipython",
    "version": 3
   },
   "file_extension": ".py",
   "mimetype": "text/x-python",
   "name": "python",
   "nbconvert_exporter": "python",
   "pygments_lexer": "ipython3",
   "version": "3.10.6"
  }
 },
 "nbformat": 4,
 "nbformat_minor": 5
}
