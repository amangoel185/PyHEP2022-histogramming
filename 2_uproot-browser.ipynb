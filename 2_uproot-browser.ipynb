{
 "cells": [
  {
   "cell_type": "markdown",
   "id": "13569330-ff1c-47f7-af65-1287e3c6b07c",
   "metadata": {},
   "source": [
    "## uproot-browser"
   ]
  },
  {
   "cell_type": "markdown",
   "id": "5663e492-c35a-48ff-b2e8-b4ecb9cb4f3e",
   "metadata": {},
   "source": [
    "[![Binder](https://mybinder.org/badge_logo.svg)](https://mybinder.org/v2/gh/amangoel185/pyhep-2022-histogramming-talk/HEAD)\n",
    "[![DOI](https://zenodo.org/badge/534640103.svg)](https://zenodo.org/badge/latestdoi/534640103)"
   ]
  },
  {
   "cell_type": "markdown",
   "id": "18d8f915-428d-4a2f-94ef-159bb5f83030",
   "metadata": {},
   "source": [
    "- **Quick Links**\n",
    "    - Talk - [Indico](https://indico.cern.ch/event/1150631/contributions/5014273/), [Repository](https://github.com/amangoel185/pyhep-2022-histogramming-talk), [Zenodo](https://zenodo.org/badge/latestdoi/534640103), [Binder](https://mybinder.org/v2/gh/amangoel185/pyhep-2022-histogramming-talk/HEAD)\n",
    "    - boost-histogram - [Documetation](https://boost-histogram.readthedocs.io), [Repository](https://github.com/scikit-hep/boost-histogram)\n",
    "    - hist - [Documentation](https://hist.readthedocs.io), [Repository](https://github.com/scikit-hep/hist)\n",
    "    - uproot-browser - [Repository](https://github.com/scikit-hep/uproot-browser)"
   ]
  },
  {
   "cell_type": "code",
   "execution_count": 24,
   "id": "33e4600c-122a-4833-bc22-95b832a8ae36",
   "metadata": {},
   "outputs": [],
   "source": [
    "import uproot\n",
    "%store -r h1"
   ]
  },
  {
   "cell_type": "code",
   "execution_count": 30,
   "id": "625e9034-7f8f-4ea5-9b5d-b5d35c5bb3de",
   "metadata": {},
   "outputs": [],
   "source": [
    "import skhep_testdata"
   ]
  }
 ],
 "metadata": {
  "kernelspec": {
   "display_name": "Python 3 (ipykernel)",
   "language": "python",
   "name": "python3"
  },
  "language_info": {
   "codemirror_mode": {
    "name": "ipython",
    "version": 3
   },
   "file_extension": ".py",
   "mimetype": "text/x-python",
   "name": "python",
   "nbconvert_exporter": "python",
   "pygments_lexer": "ipython3",
   "version": "3.10.5"
  }
 },
 "nbformat": 4,
 "nbformat_minor": 5
}
