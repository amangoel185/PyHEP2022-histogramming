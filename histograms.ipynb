{
 "cells": [
  {
   "cell_type": "markdown",
   "id": "8d070728-ef96-40ae-9d4b-297b5b70d96c",
   "metadata": {},
   "source": [
    "# Histograms as Objects: Tools for Efficient Analysis and Interactivity"
   ]
  },
  {
   "cell_type": "markdown",
   "id": "0c4ffb79-8c7a-42ea-8d0b-446fa58b6a51",
   "metadata": {},
   "source": [
    "### Aman Goel (speaker), Dr. Hans Peter Dembinski, Henry Fredrick Schreiner, Jay Gohil (speaker)"
   ]
  },
  {
   "cell_type": "markdown",
   "id": "6b4f6ef8-d520-47ee-b60c-156e04b49f78",
   "metadata": {},
   "source": [
    "**12th September, 2022**"
   ]
  },
  {
   "cell_type": "markdown",
   "id": "8b81dc5c-4f69-4aba-befa-e15aa80d6900",
   "metadata": {},
   "source": [
    "- **Overview**\n",
    "    - boost-histogram\n",
    "    - hist\n",
    "    - uproot-browser"
   ]
  },
  {
   "cell_type": "markdown",
   "id": "91d95727-81d1-411b-86c7-afb00ffb1207",
   "metadata": {},
   "source": [
    "- **Quick Links**\n",
    "    - Talk - [Indico](https://indico.cern.ch/event/1150631/contributions/5014273/), [Repository](https://github.com/amangoel185/PyHEP2022-histogramming), [Zenodo](), [Binder]()\n",
    "    - boost-histogram - [Documetation](https://boost-histogram.readthedocs.io), [Repository](https://github.com/scikit-hep/boost-histogram)\n",
    "    - hist - [Documentation](https://hist.readthedocs.io), [Repository](https://github.com/scikit-hep/hist)\n",
    "    - uproot-browser - [Repository](https://github.com/scikit-hep/uproot-browser)"
   ]
  },
  {
   "cell_type": "markdown",
   "id": "bff83d5a-d2f6-4b82-960f-56a01490dd71",
   "metadata": {},
   "source": [
    "- **Ideas and structure**\n",
    "    - via Jay\n",
    "        - Histogram fundamentals\n",
    "        - Quickstart and tutorial\n",
    "        - Axes\n",
    "        - Storage\n",
    "        - Accumulators\n",
    "        - Indexing\n",
    "        - Plotting\n",
    "        - Transformations\n",
    "    - what pattern for talk?\n",
    "        - boost-histogram first, then add on with features from Hist?\n",
    "        - then present uproot-browser\n",
    "        - complelety in noteboook or with slides? use extension in notebook for presentation?\n",
    "        - make one histogram and use throughout boost-histogram, hist and uproot-browser?\n",
    "        - image based or example based demo?\n",
    "    - miscellaneous\n",
    "        - how to generate repository like Henry's?\n",
    "        - releases and CI?"
   ]
  }
 ],
 "metadata": {
  "kernelspec": {
   "display_name": "Python 3 (ipykernel)",
   "language": "python",
   "name": "python3"
  },
  "language_info": {
   "codemirror_mode": {
    "name": "ipython",
    "version": 3
   },
   "file_extension": ".py",
   "mimetype": "text/x-python",
   "name": "python",
   "nbconvert_exporter": "python",
   "pygments_lexer": "ipython3",
   "version": "3.10.5"
  }
 },
 "nbformat": 4,
 "nbformat_minor": 5
}
